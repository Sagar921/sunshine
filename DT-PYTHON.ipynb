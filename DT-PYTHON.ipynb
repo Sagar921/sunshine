{
 "cells": [
  {
   "cell_type": "code",
   "execution_count": 1,
   "metadata": {},
   "outputs": [],
   "source": [
    "import re"
   ]
  },
  {
   "cell_type": "code",
   "execution_count": 2,
   "metadata": {},
   "outputs": [],
   "source": [
    "txt=\"the weather is sunney outside\""
   ]
  },
  {
   "cell_type": "code",
   "execution_count": 3,
   "metadata": {},
   "outputs": [],
   "source": [
    "x=re.search(\"^the.*outside$\",txt)"
   ]
  },
  {
   "cell_type": "code",
   "execution_count": 4,
   "metadata": {},
   "outputs": [
    {
     "data": {
      "text/plain": [
       "<re.Match object; span=(0, 29), match='the weather is sunney outside'>"
      ]
     },
     "execution_count": 4,
     "metadata": {},
     "output_type": "execute_result"
    }
   ],
   "source": [
    "x"
   ]
  },
  {
   "cell_type": "code",
   "execution_count": 5,
   "metadata": {},
   "outputs": [
    {
     "name": "stdout",
     "output_type": "stream",
     "text": [
      "['sky', 'sky']\n"
     ]
    }
   ],
   "source": [
    "str=\"the cloud in the sky, the birds are flying in the sky\"\n",
    "x=re.findall(\"sky\",str)\n",
    "print(x)"
   ]
  },
  {
   "cell_type": "code",
   "execution_count": 7,
   "metadata": {},
   "outputs": [
    {
     "name": "stdout",
     "output_type": "stream",
     "text": [
      "<re.Match object; span=(11, 16), match='sagar'>\n"
     ]
    }
   ],
   "source": [
    "dt=\"my name is sagar.hello sagar\"\n",
    "x=re.search(\"sagar\",dt)\n",
    "print(x)"
   ]
  },
  {
   "cell_type": "code",
   "execution_count": 8,
   "metadata": {},
   "outputs": [
    {
     "name": "stdout",
     "output_type": "stream",
     "text": [
      "['sagar', 'sagar']\n"
     ]
    }
   ],
   "source": [
    "dt1=\"hello my name is sagar, i my self sagar\"\n",
    "x=re.findall(\"sagar\",dt1)\n",
    "print(x)"
   ]
  },
  {
   "cell_type": "code",
   "execution_count": 11,
   "metadata": {},
   "outputs": [
    {
     "ename": "SyntaxError",
     "evalue": "EOL while scanning string literal (<ipython-input-11-c7c580c012c5>, line 2)",
     "output_type": "error",
     "traceback": [
      "\u001b[1;36m  File \u001b[1;32m\"<ipython-input-11-c7c580c012c5>\"\u001b[1;36m, line \u001b[1;32m2\u001b[0m\n\u001b[1;33m    x=re.search(\"^hello.*self$,dt1)\u001b[0m\n\u001b[1;37m                                   ^\u001b[0m\n\u001b[1;31mSyntaxError\u001b[0m\u001b[1;31m:\u001b[0m EOL while scanning string literal\n"
     ]
    }
   ],
   "source": [
    "dt1=\"hello my name is sagar, i my self\"\n",
    "x=re.search(\"^hello.*self$,dt1)\n",
    "print(x)"
   ]
  },
  {
   "cell_type": "code",
   "execution_count": 12,
   "metadata": {},
   "outputs": [
    {
     "name": "stdout",
     "output_type": "stream",
     "text": [
      "['hello', 'my', 'name', 'is', 'sagar,', 'i', 'my', 'self', 'sagar']\n"
     ]
    }
   ],
   "source": [
    "dt1=\"hello my name is sagar, i my self sagar\"\n",
    "x=re.split(\"\\s\",dt1)\n",
    "print(x)"
   ]
  },
  {
   "cell_type": "code",
   "execution_count": 15,
   "metadata": {},
   "outputs": [
    {
     "ename": "AttributeError",
     "evalue": "module 're' has no attribute 'whitespace'",
     "output_type": "error",
     "traceback": [
      "\u001b[1;31m---------------------------------------------------------------------------\u001b[0m",
      "\u001b[1;31mAttributeError\u001b[0m                            Traceback (most recent call last)",
      "\u001b[1;32m<ipython-input-15-3eb7abac674f>\u001b[0m in \u001b[0;36m<module>\u001b[1;34m\u001b[0m\n\u001b[0;32m      1\u001b[0m \u001b[0mdt1\u001b[0m\u001b[1;33m=\u001b[0m\u001b[1;34m\"hello my name is sagar, i my self sagar\"\u001b[0m\u001b[1;33m\u001b[0m\u001b[1;33m\u001b[0m\u001b[0m\n\u001b[1;32m----> 2\u001b[1;33m \u001b[0mx\u001b[0m\u001b[1;33m=\u001b[0m\u001b[0mre\u001b[0m\u001b[1;33m.\u001b[0m\u001b[0mwhitespace\u001b[0m\u001b[1;33m(\u001b[0m\u001b[1;34m\" \"\u001b[0m\u001b[1;33m,\u001b[0m\u001b[0mdt1\u001b[0m\u001b[1;33m)\u001b[0m\u001b[1;33m\u001b[0m\u001b[1;33m\u001b[0m\u001b[0m\n\u001b[0m\u001b[0;32m      3\u001b[0m \u001b[0mprint\u001b[0m\u001b[1;33m(\u001b[0m\u001b[0mx\u001b[0m\u001b[1;33m)\u001b[0m\u001b[1;33m\u001b[0m\u001b[1;33m\u001b[0m\u001b[0m\n",
      "\u001b[1;31mAttributeError\u001b[0m: module 're' has no attribute 'whitespace'"
     ]
    }
   ],
   "source": [
    "dt1=\"hello my name is sagar, i my self sagar\"\n",
    "x=re.whitespace(\"\\\",dt1)\n",
    "print(x)"
   ]
  },
  {
   "cell_type": "code",
   "execution_count": 16,
   "metadata": {},
   "outputs": [
    {
     "name": "stdout",
     "output_type": "stream",
     "text": [
      "hello7my7name7is7sagar,7i7my7self7sagar\n"
     ]
    }
   ],
   "source": [
    "dt1=\"hello my name is sagar, i my self sagar\"\n",
    "x=re.sub(\"\\s\",\"7\",dt1)\n",
    "print(x)"
   ]
  },
  {
   "cell_type": "code",
   "execution_count": 18,
   "metadata": {},
   "outputs": [
    {
     "name": "stdout",
     "output_type": "stream",
     "text": [
      "hello9my9name is sagar, i my self sagar\n"
     ]
    }
   ],
   "source": [
    "dt1=\"hello my name is sagar, i my self sagar\"\n",
    "x=re.sub(\"\\s\",\"9\",dt1,2)\n",
    "print(x)"
   ]
  },
  {
   "cell_type": "code",
   "execution_count": 19,
   "metadata": {},
   "outputs": [
    {
     "name": "stdout",
     "output_type": "stream",
     "text": [
      "(17, 20)\n"
     ]
    }
   ],
   "source": [
    "str=\"the cloud in the sky.\"\n",
    "x=re.search(r\"\\bs\\w+\",str)\n",
    "print(x.span())"
   ]
  },
  {
   "cell_type": "code",
   "execution_count": 26,
   "metadata": {},
   "outputs": [
    {
     "name": "stdout",
     "output_type": "stream",
     "text": [
      "(9, 13)\n"
     ]
    }
   ],
   "source": [
    "dt1=\"hello my name is sagar, i my self sagar\"\n",
    "x=re.search(r\"\\bn\\w+\",dt1)\n",
    "print(x.span())"
   ]
  },
  {
   "cell_type": "code",
   "execution_count": 28,
   "metadata": {},
   "outputs": [
    {
     "name": "stdout",
     "output_type": "stream",
     "text": [
      "<re.Match object; span=(6, 8), match='my'>\n"
     ]
    }
   ],
   "source": [
    "dt1=\"hello my name is sagar, i my self sagar\"\n",
    "x=re.search(\"my\",dt1)\n",
    "print(x)"
   ]
  },
  {
   "cell_type": "code",
   "execution_count": 29,
   "metadata": {},
   "outputs": [
    {
     "name": "stdout",
     "output_type": "stream",
     "text": [
      "the cloud in the sky.\n"
     ]
    }
   ],
   "source": [
    "str=\"the cloud in the sky.\"\n",
    "x=re.search(r\"\\bs\\w+\",str)\n",
    "print(x.string)"
   ]
  },
  {
   "cell_type": "code",
   "execution_count": 30,
   "metadata": {},
   "outputs": [
    {
     "name": "stdout",
     "output_type": "stream",
     "text": [
      "sky\n"
     ]
    }
   ],
   "source": [
    "str=\"the cloud in the sky.\"\n",
    "x=re.search(r\"\\bs\\w+\",str)\n",
    "print(x.group())"
   ]
  },
  {
   "cell_type": "code",
   "execution_count": 31,
   "metadata": {},
   "outputs": [
    {
     "name": "stdout",
     "output_type": "stream",
     "text": [
      "['the']\n"
     ]
    }
   ],
   "source": [
    "str=\"the cloud in the sky.\"\n",
    "x=re.findall(r\"^\\w+\",str)\n",
    "print(x)"
   ]
  },
  {
   "cell_type": "code",
   "execution_count": 32,
   "metadata": {},
   "outputs": [
    {
     "name": "stdout",
     "output_type": "stream",
     "text": [
      "['the', 'cloud', 'in', 'the', 'sky.']\n"
     ]
    }
   ],
   "source": [
    "str=\"the cloud in the sky.\"\n",
    "x=re.split(r\"\\s\",str)\n",
    "print(x)"
   ]
  },
  {
   "cell_type": "code",
   "execution_count": 34,
   "metadata": {},
   "outputs": [
    {
     "name": "stdout",
     "output_type": "stream",
     "text": [
      "<re.Match object; span=(0, 21), match='the cloud in the sky.'>\n"
     ]
    }
   ],
   "source": [
    "str=\"the cloud in the sky.\"\n",
    "x=re.search(r\"^the.*sky.$\",str)\n",
    "print(x)"
   ]
  },
  {
   "cell_type": "code",
   "execution_count": 36,
   "metadata": {},
   "outputs": [
    {
     "name": "stdout",
     "output_type": "stream",
     "text": [
      "cloud\n"
     ]
    }
   ],
   "source": [
    "str=\"the cloud in the sky.\"\n",
    "x=re.search(r\"\\bc\\w+\",str)\n",
    "print(x.group())"
   ]
  },
  {
   "cell_type": "code",
   "execution_count": 37,
   "metadata": {},
   "outputs": [
    {
     "name": "stdout",
     "output_type": "stream",
     "text": [
      "<re.Match object; span=(4, 9), match='cloud'>\n"
     ]
    }
   ],
   "source": [
    "str=\"the cloud in the sky.\"\n",
    "x=re.search(r\"\\bc\\w+\",str)\n",
    "print(x)"
   ]
  },
  {
   "cell_type": "code",
   "execution_count": 38,
   "metadata": {},
   "outputs": [],
   "source": [
    "p=re.compile(r'[a-e]')"
   ]
  },
  {
   "cell_type": "code",
   "execution_count": 39,
   "metadata": {},
   "outputs": [
    {
     "name": "stdout",
     "output_type": "stream",
     "text": [
      "['e', 'c', 'd', 'e']\n"
     ]
    }
   ],
   "source": [
    "print(p.findall(\"the cloud in the sky.\"))"
   ]
  },
  {
   "cell_type": "code",
   "execution_count": 40,
   "metadata": {},
   "outputs": [],
   "source": [
    "p=re.compile(r'[a-zA-Z]')"
   ]
  },
  {
   "cell_type": "code",
   "execution_count": 41,
   "metadata": {},
   "outputs": [
    {
     "name": "stdout",
     "output_type": "stream",
     "text": [
      "['t', 'h', 'e', 'h', 'e', 'n', 's', 'i', 'n', 't', 'h', 'e', 'm', 'a', 'r', 'k', 'e', 't', 'c', 'o', 's', 't', 'r', 's', 'w', 'a', 's', 't', 'o', 'd', 'a', 'y', 's', 'o', 'l', 'd', 'p', 'r', 'i', 'c', 'e', 'o', 'f', 'r', 's']\n"
     ]
    }
   ],
   "source": [
    "print(p.findall(\"the 50 hens in the market cost @ rs 50 was today sold @ # price of 100 rs\"))"
   ]
  },
  {
   "cell_type": "code",
   "execution_count": 42,
   "metadata": {},
   "outputs": [],
   "source": [
    "p=re.compile(r'[0-51]')"
   ]
  },
  {
   "cell_type": "code",
   "execution_count": 43,
   "metadata": {},
   "outputs": [
    {
     "name": "stdout",
     "output_type": "stream",
     "text": [
      "['t', 'h', 'e', '5', '0', 'h', 'e', 'n', 's', 'i', 'n', 't', 'h', 'e', 'm', 'a', 'r', 'k', 'e', 't', 'c', 'o', 's', 't', 'r', 's', '5', '0', 'w', 'a', 's', 't', 'o', 'd', 'a', 'y', 's', 'o', 'l', 'd', 'p', 'r', 'i', 'c', 'e', 'o', 'f', '1', '0', '0', 'r', 's']\n"
     ]
    }
   ],
   "source": [
    "p=re.compile(r'[0-51]')"
   ]
  },
  {
   "cell_type": "code",
   "execution_count": 44,
   "metadata": {},
   "outputs": [],
   "source": [
    "p=re.compile(r'[0-51]')"
   ]
  },
  {
   "cell_type": "code",
   "execution_count": 45,
   "metadata": {},
   "outputs": [],
   "source": [
    "p=re.compile(r'[0-51]')"
   ]
  },
  {
   "cell_type": "code",
   "execution_count": 46,
   "metadata": {},
   "outputs": [
    {
     "name": "stdout",
     "output_type": "stream",
     "text": [
      "['5', '0', '5', '0', '1', '0', '0']\n"
     ]
    }
   ],
   "source": [
    "print(p.findall(\"the 50 hens in the market cost @ rs 50 was today sold @ # price of 100 rs\"))"
   ]
  },
  {
   "cell_type": "code",
   "execution_count": 47,
   "metadata": {},
   "outputs": [],
   "source": [
    "p=re.compile(r'[^a-zA-Z]')"
   ]
  },
  {
   "cell_type": "code",
   "execution_count": 48,
   "metadata": {},
   "outputs": [
    {
     "name": "stdout",
     "output_type": "stream",
     "text": [
      "[' ', '5', '0', ' ', ' ', ' ', ' ', ' ', ' ', '@', ' ', ' ', '5', '0', ' ', ' ', ' ', ' ', '@', ' ', '#', ' ', ' ', ' ', '1', '0', '0', ' ']\n"
     ]
    }
   ],
   "source": [
    "print(p.findall(\"the 50 hens in the market cost @ rs 50 was today sold @ # price of 100 rs\"))"
   ]
  },
  {
   "cell_type": "code",
   "execution_count": 49,
   "metadata": {},
   "outputs": [],
   "source": [
    "p=re.compile(r'[^a-z]')"
   ]
  },
  {
   "cell_type": "code",
   "execution_count": 51,
   "metadata": {},
   "outputs": [
    {
     "name": "stdout",
     "output_type": "stream",
     "text": [
      "[' ', '5', '0', ' ', ' ', ' ', ' ', ' ', ' ', '@', ' ', ' ', '5', '0', ' ', ' ', 'T', ' ', ' ', '@', ' ', '#', ' ', 'P', ' ', ' ', '1', '0', '0', ' ']\n"
     ]
    }
   ],
   "source": [
    "print(p.findall(\"the 50 hens in the market cost @ rs 50 was Today sold @ # Price of 100 rs\"))"
   ]
  },
  {
   "cell_type": "code",
   "execution_count": null,
   "metadata": {},
   "outputs": [],
   "source": []
  }
 ],
 "metadata": {
  "kernelspec": {
   "display_name": "Python 3",
   "language": "python",
   "name": "python3"
  },
  "language_info": {
   "codemirror_mode": {
    "name": "ipython",
    "version": 3
   },
   "file_extension": ".py",
   "mimetype": "text/x-python",
   "name": "python",
   "nbconvert_exporter": "python",
   "pygments_lexer": "ipython3",
   "version": "3.7.6"
  }
 },
 "nbformat": 4,
 "nbformat_minor": 4
}
