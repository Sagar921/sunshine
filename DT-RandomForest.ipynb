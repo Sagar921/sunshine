{
 "cells": [
  {
   "cell_type": "code",
   "execution_count": 1,
   "metadata": {},
   "outputs": [],
   "source": [
    "import pandas as pd\n",
    "df = pd.read_csv('https://raw.githubusercontent.com/dphi-official/Datasets/master/Wine_Dataset/Training_set_redwine.csv')"
   ]
  },
  {
   "cell_type": "code",
   "execution_count": 2,
   "metadata": {},
   "outputs": [
    {
     "data": {
      "text/html": [
       "<div>\n",
       "<style scoped>\n",
       "    .dataframe tbody tr th:only-of-type {\n",
       "        vertical-align: middle;\n",
       "    }\n",
       "\n",
       "    .dataframe tbody tr th {\n",
       "        vertical-align: top;\n",
       "    }\n",
       "\n",
       "    .dataframe thead th {\n",
       "        text-align: right;\n",
       "    }\n",
       "</style>\n",
       "<table border=\"1\" class=\"dataframe\">\n",
       "  <thead>\n",
       "    <tr style=\"text-align: right;\">\n",
       "      <th></th>\n",
       "      <th>fixed acidity</th>\n",
       "      <th>volatile acidity</th>\n",
       "      <th>citric acid</th>\n",
       "      <th>residual sugar</th>\n",
       "      <th>chlorides</th>\n",
       "      <th>free sulfur dioxide</th>\n",
       "      <th>total sulfur dioxide</th>\n",
       "      <th>density</th>\n",
       "      <th>pH</th>\n",
       "      <th>sulphates</th>\n",
       "      <th>alcohol</th>\n",
       "      <th>quality</th>\n",
       "    </tr>\n",
       "  </thead>\n",
       "  <tbody>\n",
       "    <tr>\n",
       "      <th>0</th>\n",
       "      <td>11.1</td>\n",
       "      <td>0.390</td>\n",
       "      <td>0.54</td>\n",
       "      <td>2.7</td>\n",
       "      <td>0.095</td>\n",
       "      <td>21.0</td>\n",
       "      <td>101.0</td>\n",
       "      <td>1.00010</td>\n",
       "      <td>3.13</td>\n",
       "      <td>0.51</td>\n",
       "      <td>9.5</td>\n",
       "      <td>5</td>\n",
       "    </tr>\n",
       "    <tr>\n",
       "      <th>1</th>\n",
       "      <td>15.6</td>\n",
       "      <td>0.645</td>\n",
       "      <td>0.49</td>\n",
       "      <td>4.2</td>\n",
       "      <td>0.095</td>\n",
       "      <td>10.0</td>\n",
       "      <td>23.0</td>\n",
       "      <td>1.00315</td>\n",
       "      <td>2.92</td>\n",
       "      <td>0.74</td>\n",
       "      <td>11.1</td>\n",
       "      <td>5</td>\n",
       "    </tr>\n",
       "    <tr>\n",
       "      <th>2</th>\n",
       "      <td>8.4</td>\n",
       "      <td>0.670</td>\n",
       "      <td>0.19</td>\n",
       "      <td>2.2</td>\n",
       "      <td>0.093</td>\n",
       "      <td>11.0</td>\n",
       "      <td>75.0</td>\n",
       "      <td>0.99736</td>\n",
       "      <td>3.20</td>\n",
       "      <td>0.59</td>\n",
       "      <td>9.2</td>\n",
       "      <td>4</td>\n",
       "    </tr>\n",
       "    <tr>\n",
       "      <th>3</th>\n",
       "      <td>7.7</td>\n",
       "      <td>0.180</td>\n",
       "      <td>0.34</td>\n",
       "      <td>2.7</td>\n",
       "      <td>0.066</td>\n",
       "      <td>15.0</td>\n",
       "      <td>58.0</td>\n",
       "      <td>0.99470</td>\n",
       "      <td>3.37</td>\n",
       "      <td>0.78</td>\n",
       "      <td>11.8</td>\n",
       "      <td>6</td>\n",
       "    </tr>\n",
       "    <tr>\n",
       "      <th>4</th>\n",
       "      <td>12.2</td>\n",
       "      <td>0.450</td>\n",
       "      <td>0.49</td>\n",
       "      <td>1.4</td>\n",
       "      <td>0.075</td>\n",
       "      <td>3.0</td>\n",
       "      <td>6.0</td>\n",
       "      <td>0.99690</td>\n",
       "      <td>3.13</td>\n",
       "      <td>0.63</td>\n",
       "      <td>10.4</td>\n",
       "      <td>5</td>\n",
       "    </tr>\n",
       "  </tbody>\n",
       "</table>\n",
       "</div>"
      ],
      "text/plain": [
       "   fixed acidity  volatile acidity  citric acid  residual sugar  chlorides  \\\n",
       "0           11.1             0.390         0.54             2.7      0.095   \n",
       "1           15.6             0.645         0.49             4.2      0.095   \n",
       "2            8.4             0.670         0.19             2.2      0.093   \n",
       "3            7.7             0.180         0.34             2.7      0.066   \n",
       "4           12.2             0.450         0.49             1.4      0.075   \n",
       "\n",
       "   free sulfur dioxide  total sulfur dioxide  density    pH  sulphates  \\\n",
       "0                 21.0                 101.0  1.00010  3.13       0.51   \n",
       "1                 10.0                  23.0  1.00315  2.92       0.74   \n",
       "2                 11.0                  75.0  0.99736  3.20       0.59   \n",
       "3                 15.0                  58.0  0.99470  3.37       0.78   \n",
       "4                  3.0                   6.0  0.99690  3.13       0.63   \n",
       "\n",
       "   alcohol  quality  \n",
       "0      9.5        5  \n",
       "1     11.1        5  \n",
       "2      9.2        4  \n",
       "3     11.8        6  \n",
       "4     10.4        5  "
      ]
     },
     "execution_count": 2,
     "metadata": {},
     "output_type": "execute_result"
    }
   ],
   "source": [
    "df.head()"
   ]
  },
  {
   "cell_type": "code",
   "execution_count": 3,
   "metadata": {},
   "outputs": [
    {
     "data": {
      "text/html": [
       "<div>\n",
       "<style scoped>\n",
       "    .dataframe tbody tr th:only-of-type {\n",
       "        vertical-align: middle;\n",
       "    }\n",
       "\n",
       "    .dataframe tbody tr th {\n",
       "        vertical-align: top;\n",
       "    }\n",
       "\n",
       "    .dataframe thead th {\n",
       "        text-align: right;\n",
       "    }\n",
       "</style>\n",
       "<table border=\"1\" class=\"dataframe\">\n",
       "  <thead>\n",
       "    <tr style=\"text-align: right;\">\n",
       "      <th></th>\n",
       "      <th>fixed acidity</th>\n",
       "      <th>volatile acidity</th>\n",
       "      <th>citric acid</th>\n",
       "      <th>residual sugar</th>\n",
       "      <th>chlorides</th>\n",
       "      <th>free sulfur dioxide</th>\n",
       "      <th>total sulfur dioxide</th>\n",
       "      <th>density</th>\n",
       "      <th>pH</th>\n",
       "      <th>sulphates</th>\n",
       "      <th>alcohol</th>\n",
       "      <th>quality</th>\n",
       "    </tr>\n",
       "  </thead>\n",
       "  <tbody>\n",
       "    <tr>\n",
       "      <th>1114</th>\n",
       "      <td>7.4</td>\n",
       "      <td>1.185</td>\n",
       "      <td>0.00</td>\n",
       "      <td>4.25</td>\n",
       "      <td>0.097</td>\n",
       "      <td>5.0</td>\n",
       "      <td>14.0</td>\n",
       "      <td>0.99660</td>\n",
       "      <td>3.63</td>\n",
       "      <td>0.54</td>\n",
       "      <td>10.7</td>\n",
       "      <td>3</td>\n",
       "    </tr>\n",
       "    <tr>\n",
       "      <th>1115</th>\n",
       "      <td>7.9</td>\n",
       "      <td>0.240</td>\n",
       "      <td>0.40</td>\n",
       "      <td>1.60</td>\n",
       "      <td>0.056</td>\n",
       "      <td>11.0</td>\n",
       "      <td>25.0</td>\n",
       "      <td>0.99670</td>\n",
       "      <td>3.32</td>\n",
       "      <td>0.87</td>\n",
       "      <td>8.7</td>\n",
       "      <td>6</td>\n",
       "    </tr>\n",
       "    <tr>\n",
       "      <th>1116</th>\n",
       "      <td>7.2</td>\n",
       "      <td>0.380</td>\n",
       "      <td>0.38</td>\n",
       "      <td>2.80</td>\n",
       "      <td>0.068</td>\n",
       "      <td>23.0</td>\n",
       "      <td>42.0</td>\n",
       "      <td>0.99356</td>\n",
       "      <td>3.34</td>\n",
       "      <td>0.72</td>\n",
       "      <td>12.9</td>\n",
       "      <td>7</td>\n",
       "    </tr>\n",
       "    <tr>\n",
       "      <th>1117</th>\n",
       "      <td>8.1</td>\n",
       "      <td>0.780</td>\n",
       "      <td>0.23</td>\n",
       "      <td>2.60</td>\n",
       "      <td>0.059</td>\n",
       "      <td>5.0</td>\n",
       "      <td>15.0</td>\n",
       "      <td>0.99700</td>\n",
       "      <td>3.37</td>\n",
       "      <td>0.56</td>\n",
       "      <td>11.3</td>\n",
       "      <td>5</td>\n",
       "    </tr>\n",
       "    <tr>\n",
       "      <th>1118</th>\n",
       "      <td>7.0</td>\n",
       "      <td>0.570</td>\n",
       "      <td>0.00</td>\n",
       "      <td>2.00</td>\n",
       "      <td>0.190</td>\n",
       "      <td>12.0</td>\n",
       "      <td>45.0</td>\n",
       "      <td>0.99676</td>\n",
       "      <td>3.31</td>\n",
       "      <td>0.60</td>\n",
       "      <td>9.4</td>\n",
       "      <td>6</td>\n",
       "    </tr>\n",
       "  </tbody>\n",
       "</table>\n",
       "</div>"
      ],
      "text/plain": [
       "      fixed acidity  volatile acidity  citric acid  residual sugar  chlorides  \\\n",
       "1114            7.4             1.185         0.00            4.25      0.097   \n",
       "1115            7.9             0.240         0.40            1.60      0.056   \n",
       "1116            7.2             0.380         0.38            2.80      0.068   \n",
       "1117            8.1             0.780         0.23            2.60      0.059   \n",
       "1118            7.0             0.570         0.00            2.00      0.190   \n",
       "\n",
       "      free sulfur dioxide  total sulfur dioxide  density    pH  sulphates  \\\n",
       "1114                  5.0                  14.0  0.99660  3.63       0.54   \n",
       "1115                 11.0                  25.0  0.99670  3.32       0.87   \n",
       "1116                 23.0                  42.0  0.99356  3.34       0.72   \n",
       "1117                  5.0                  15.0  0.99700  3.37       0.56   \n",
       "1118                 12.0                  45.0  0.99676  3.31       0.60   \n",
       "\n",
       "      alcohol  quality  \n",
       "1114     10.7        3  \n",
       "1115      8.7        6  \n",
       "1116     12.9        7  \n",
       "1117     11.3        5  \n",
       "1118      9.4        6  "
      ]
     },
     "execution_count": 3,
     "metadata": {},
     "output_type": "execute_result"
    }
   ],
   "source": [
    "df.tail()"
   ]
  },
  {
   "cell_type": "code",
   "execution_count": 4,
   "metadata": {},
   "outputs": [
    {
     "name": "stdout",
     "output_type": "stream",
     "text": [
      "<class 'pandas.core.frame.DataFrame'>\n",
      "RangeIndex: 1119 entries, 0 to 1118\n",
      "Data columns (total 12 columns):\n",
      " #   Column                Non-Null Count  Dtype  \n",
      "---  ------                --------------  -----  \n",
      " 0   fixed acidity         1119 non-null   float64\n",
      " 1   volatile acidity      1119 non-null   float64\n",
      " 2   citric acid           1119 non-null   float64\n",
      " 3   residual sugar        1119 non-null   float64\n",
      " 4   chlorides             1119 non-null   float64\n",
      " 5   free sulfur dioxide   1119 non-null   float64\n",
      " 6   total sulfur dioxide  1119 non-null   float64\n",
      " 7   density               1119 non-null   float64\n",
      " 8   pH                    1119 non-null   float64\n",
      " 9   sulphates             1119 non-null   float64\n",
      " 10  alcohol               1119 non-null   float64\n",
      " 11  quality               1119 non-null   int64  \n",
      "dtypes: float64(11), int64(1)\n",
      "memory usage: 105.0 KB\n"
     ]
    }
   ],
   "source": [
    "df.info()"
   ]
  },
  {
   "cell_type": "code",
   "execution_count": 5,
   "metadata": {},
   "outputs": [
    {
     "data": {
      "text/plain": [
       "fixed acidity           float64\n",
       "volatile acidity        float64\n",
       "citric acid             float64\n",
       "residual sugar          float64\n",
       "chlorides               float64\n",
       "free sulfur dioxide     float64\n",
       "total sulfur dioxide    float64\n",
       "density                 float64\n",
       "pH                      float64\n",
       "sulphates               float64\n",
       "alcohol                 float64\n",
       "quality                   int64\n",
       "dtype: object"
      ]
     },
     "execution_count": 5,
     "metadata": {},
     "output_type": "execute_result"
    }
   ],
   "source": [
    "df.dtypes"
   ]
  },
  {
   "cell_type": "code",
   "execution_count": 6,
   "metadata": {},
   "outputs": [
    {
     "data": {
      "text/plain": [
       "(1119, 12)"
      ]
     },
     "execution_count": 6,
     "metadata": {},
     "output_type": "execute_result"
    }
   ],
   "source": [
    "df.shape"
   ]
  },
  {
   "cell_type": "code",
   "execution_count": 7,
   "metadata": {},
   "outputs": [
    {
     "data": {
      "text/plain": [
       "fixed acidity           0\n",
       "volatile acidity        0\n",
       "citric acid             0\n",
       "residual sugar          0\n",
       "chlorides               0\n",
       "free sulfur dioxide     0\n",
       "total sulfur dioxide    0\n",
       "density                 0\n",
       "pH                      0\n",
       "sulphates               0\n",
       "alcohol                 0\n",
       "quality                 0\n",
       "dtype: int64"
      ]
     },
     "execution_count": 7,
     "metadata": {},
     "output_type": "execute_result"
    }
   ],
   "source": [
    "df.isnull().sum()"
   ]
  },
  {
   "cell_type": "code",
   "execution_count": 8,
   "metadata": {},
   "outputs": [
    {
     "data": {
      "text/plain": [
       "<matplotlib.axes._subplots.AxesSubplot at 0x1ef4c92c348>"
      ]
     },
     "execution_count": 8,
     "metadata": {},
     "output_type": "execute_result"
    },
    {
     "data": {
      "image/png": "[encoded data removed]",
      "text/plain": [
       "<Figure size 432x288 with 2 Axes>"
      ]
     },
     "metadata": {
      "needs_background": "light"
     },
     "output_type": "display_data"
    }
   ],
   "source": [
    "import seaborn as sns\n",
    "sns.heatmap(df.isnull())"
   ]
  },
  {
   "cell_type": "code",
   "execution_count": 9,
   "metadata": {},
   "outputs": [
    {
     "data": {
      "text/plain": [
       "Index(['fixed acidity', 'volatile acidity', 'citric acid', 'residual sugar',\n",
       "       'chlorides', 'free sulfur dioxide', 'total sulfur dioxide', 'density',\n",
       "       'pH', 'sulphates', 'alcohol', 'quality'],\n",
       "      dtype='object')"
      ]
     },
     "execution_count": 9,
     "metadata": {},
     "output_type": "execute_result"
    }
   ],
   "source": [
    "df.columns"
   ]
  },
  {
   "cell_type": "code",
   "execution_count": 10,
   "metadata": {},
   "outputs": [
    {
     "data": {
      "text/plain": [
       "5    477\n",
       "6    446\n",
       "7    139\n",
       "4     37\n",
       "8     13\n",
       "3      7\n",
       "Name: quality, dtype: int64"
      ]
     },
     "execution_count": 10,
     "metadata": {},
     "output_type": "execute_result"
    }
   ],
   "source": [
    "df['quality'].value_counts()"
   ]
  },
  {
   "cell_type": "code",
   "execution_count": 11,
   "metadata": {},
   "outputs": [
    {
     "data": {
      "text/plain": [
       "array([5, 4, 6, 7, 8, 3], dtype=int64)"
      ]
     },
     "execution_count": 11,
     "metadata": {},
     "output_type": "execute_result"
    }
   ],
   "source": [
    "df['quality'].unique()"
   ]
  },
  {
   "cell_type": "code",
   "execution_count": 12,
   "metadata": {},
   "outputs": [
    {
     "data": {
      "text/plain": [
       "<matplotlib.axes._subplots.AxesSubplot at 0x1ef4e69a308>"
      ]
     },
     "execution_count": 12,
     "metadata": {},
     "output_type": "execute_result"
    },
    {
     "data": {
      "image/png": "[encoded data removed]",
      "text/plain": [
       "<Figure size 432x288 with 1 Axes>"
      ]
     },
     "metadata": {
      "needs_background": "light"
     },
     "output_type": "display_data"
    }
   ],
   "source": [
    "sns.countplot(['quality','alcohol'])"
   ]
  },
  {
   "cell_type": "code",
   "execution_count": 13,
   "metadata": {},
   "outputs": [
    {
     "data": {
      "text/html": [
       "<div>\n",
       "<style scoped>\n",
       "    .dataframe tbody tr th:only-of-type {\n",
       "        vertical-align: middle;\n",
       "    }\n",
       "\n",
       "    .dataframe tbody tr th {\n",
       "        vertical-align: top;\n",
       "    }\n",
       "\n",
       "    .dataframe thead th {\n",
       "        text-align: right;\n",
       "    }\n",
       "</style>\n",
       "<table border=\"1\" class=\"dataframe\">\n",
       "  <thead>\n",
       "    <tr style=\"text-align: right;\">\n",
       "      <th></th>\n",
       "      <th>fixed acidity</th>\n",
       "      <th>volatile acidity</th>\n",
       "      <th>citric acid</th>\n",
       "      <th>residual sugar</th>\n",
       "      <th>chlorides</th>\n",
       "      <th>free sulfur dioxide</th>\n",
       "      <th>total sulfur dioxide</th>\n",
       "      <th>density</th>\n",
       "      <th>pH</th>\n",
       "      <th>sulphates</th>\n",
       "      <th>alcohol</th>\n",
       "      <th>quality</th>\n",
       "    </tr>\n",
       "  </thead>\n",
       "  <tbody>\n",
       "    <tr>\n",
       "      <th>count</th>\n",
       "      <td>1119.000000</td>\n",
       "      <td>1119.000000</td>\n",
       "      <td>1119.000000</td>\n",
       "      <td>1119.000000</td>\n",
       "      <td>1119.000000</td>\n",
       "      <td>1119.000000</td>\n",
       "      <td>1119.000000</td>\n",
       "      <td>1119.000000</td>\n",
       "      <td>1119.000000</td>\n",
       "      <td>1119.000000</td>\n",
       "      <td>1119.000000</td>\n",
       "      <td>1119.000000</td>\n",
       "    </tr>\n",
       "    <tr>\n",
       "      <th>mean</th>\n",
       "      <td>8.345040</td>\n",
       "      <td>0.526609</td>\n",
       "      <td>0.270206</td>\n",
       "      <td>2.567248</td>\n",
       "      <td>0.086708</td>\n",
       "      <td>15.920018</td>\n",
       "      <td>46.411528</td>\n",
       "      <td>0.996765</td>\n",
       "      <td>3.308919</td>\n",
       "      <td>0.658231</td>\n",
       "      <td>10.436416</td>\n",
       "      <td>5.636282</td>\n",
       "    </tr>\n",
       "    <tr>\n",
       "      <th>std</th>\n",
       "      <td>1.776786</td>\n",
       "      <td>0.175865</td>\n",
       "      <td>0.195797</td>\n",
       "      <td>1.475748</td>\n",
       "      <td>0.044787</td>\n",
       "      <td>10.643919</td>\n",
       "      <td>33.363313</td>\n",
       "      <td>0.001942</td>\n",
       "      <td>0.156648</td>\n",
       "      <td>0.168539</td>\n",
       "      <td>1.068774</td>\n",
       "      <td>0.808589</td>\n",
       "    </tr>\n",
       "    <tr>\n",
       "      <th>min</th>\n",
       "      <td>4.700000</td>\n",
       "      <td>0.120000</td>\n",
       "      <td>0.000000</td>\n",
       "      <td>0.900000</td>\n",
       "      <td>0.012000</td>\n",
       "      <td>1.000000</td>\n",
       "      <td>6.000000</td>\n",
       "      <td>0.990070</td>\n",
       "      <td>2.740000</td>\n",
       "      <td>0.370000</td>\n",
       "      <td>8.400000</td>\n",
       "      <td>3.000000</td>\n",
       "    </tr>\n",
       "    <tr>\n",
       "      <th>25%</th>\n",
       "      <td>7.100000</td>\n",
       "      <td>0.390000</td>\n",
       "      <td>0.090000</td>\n",
       "      <td>1.900000</td>\n",
       "      <td>0.070000</td>\n",
       "      <td>7.000000</td>\n",
       "      <td>21.500000</td>\n",
       "      <td>0.995575</td>\n",
       "      <td>3.210000</td>\n",
       "      <td>0.550000</td>\n",
       "      <td>9.500000</td>\n",
       "      <td>5.000000</td>\n",
       "    </tr>\n",
       "    <tr>\n",
       "      <th>50%</th>\n",
       "      <td>7.900000</td>\n",
       "      <td>0.520000</td>\n",
       "      <td>0.260000</td>\n",
       "      <td>2.200000</td>\n",
       "      <td>0.079000</td>\n",
       "      <td>14.000000</td>\n",
       "      <td>37.000000</td>\n",
       "      <td>0.996760</td>\n",
       "      <td>3.310000</td>\n",
       "      <td>0.620000</td>\n",
       "      <td>10.200000</td>\n",
       "      <td>6.000000</td>\n",
       "    </tr>\n",
       "    <tr>\n",
       "      <th>75%</th>\n",
       "      <td>9.300000</td>\n",
       "      <td>0.635000</td>\n",
       "      <td>0.420000</td>\n",
       "      <td>2.600000</td>\n",
       "      <td>0.090000</td>\n",
       "      <td>21.000000</td>\n",
       "      <td>62.000000</td>\n",
       "      <td>0.997870</td>\n",
       "      <td>3.400000</td>\n",
       "      <td>0.730000</td>\n",
       "      <td>11.100000</td>\n",
       "      <td>6.000000</td>\n",
       "    </tr>\n",
       "    <tr>\n",
       "      <th>max</th>\n",
       "      <td>15.600000</td>\n",
       "      <td>1.580000</td>\n",
       "      <td>1.000000</td>\n",
       "      <td>15.400000</td>\n",
       "      <td>0.610000</td>\n",
       "      <td>72.000000</td>\n",
       "      <td>289.000000</td>\n",
       "      <td>1.003690</td>\n",
       "      <td>4.010000</td>\n",
       "      <td>2.000000</td>\n",
       "      <td>14.000000</td>\n",
       "      <td>8.000000</td>\n",
       "    </tr>\n",
       "  </tbody>\n",
       "</table>\n",
       "</div>"
      ],
      "text/plain": [
       "       fixed acidity  volatile acidity  citric acid  residual sugar  \\\n",
       "count    1119.000000       1119.000000  1119.000000     1119.000000   \n",
       "mean        8.345040          0.526609     0.270206        2.567248   \n",
       "std         1.776786          0.175865     0.195797        1.475748   \n",
       "min         4.700000          0.120000     0.000000        0.900000   \n",
       "25%         7.100000          0.390000     0.090000        1.900000   \n",
       "50%         7.900000          0.520000     0.260000        2.200000   \n",
       "75%         9.300000          0.635000     0.420000        2.600000   \n",
       "max        15.600000          1.580000     1.000000       15.400000   \n",
       "\n",
       "         chlorides  free sulfur dioxide  total sulfur dioxide      density  \\\n",
       "count  1119.000000          1119.000000           1119.000000  1119.000000   \n",
       "mean      0.086708            15.920018             46.411528     0.996765   \n",
       "std       0.044787            10.643919             33.363313     0.001942   \n",
       "min       0.012000             1.000000              6.000000     0.990070   \n",
       "25%       0.070000             7.000000             21.500000     0.995575   \n",
       "50%       0.079000            14.000000             37.000000     0.996760   \n",
       "75%       0.090000            21.000000             62.000000     0.997870   \n",
       "max       0.610000            72.000000            289.000000     1.003690   \n",
       "\n",
       "                pH    sulphates      alcohol      quality  \n",
       "count  1119.000000  1119.000000  1119.000000  1119.000000  \n",
       "mean      3.308919     0.658231    10.436416     5.636282  \n",
       "std       0.156648     0.168539     1.068774     0.808589  \n",
       "min       2.740000     0.370000     8.400000     3.000000  \n",
       "25%       3.210000     0.550000     9.500000     5.000000  \n",
       "50%       3.310000     0.620000    10.200000     6.000000  \n",
       "75%       3.400000     0.730000    11.100000     6.000000  \n",
       "max       4.010000     2.000000    14.000000     8.000000  "
      ]
     },
     "execution_count": 13,
     "metadata": {},
     "output_type": "execute_result"
    }
   ],
   "source": [
    "df.describe()"
   ]
  },
  {
   "cell_type": "code",
   "execution_count": 14,
   "metadata": {},
   "outputs": [
    {
     "data": {
      "text/html": [
       "<div>\n",
       "<style scoped>\n",
       "    .dataframe tbody tr th:only-of-type {\n",
       "        vertical-align: middle;\n",
       "    }\n",
       "\n",
       "    .dataframe tbody tr th {\n",
       "        vertical-align: top;\n",
       "    }\n",
       "\n",
       "    .dataframe thead th {\n",
       "        text-align: right;\n",
       "    }\n",
       "</style>\n",
       "<table border=\"1\" class=\"dataframe\">\n",
       "  <thead>\n",
       "    <tr style=\"text-align: right;\">\n",
       "      <th></th>\n",
       "      <th>fixed acidity</th>\n",
       "      <th>volatile acidity</th>\n",
       "      <th>citric acid</th>\n",
       "      <th>residual sugar</th>\n",
       "      <th>chlorides</th>\n",
       "      <th>free sulfur dioxide</th>\n",
       "      <th>total sulfur dioxide</th>\n",
       "      <th>density</th>\n",
       "      <th>pH</th>\n",
       "      <th>sulphates</th>\n",
       "      <th>alcohol</th>\n",
       "      <th>quality</th>\n",
       "    </tr>\n",
       "  </thead>\n",
       "  <tbody>\n",
       "    <tr>\n",
       "      <th>fixed acidity</th>\n",
       "      <td>1.000000</td>\n",
       "      <td>-0.261200</td>\n",
       "      <td>0.684051</td>\n",
       "      <td>0.079467</td>\n",
       "      <td>0.095452</td>\n",
       "      <td>-0.179098</td>\n",
       "      <td>-0.134373</td>\n",
       "      <td>0.678846</td>\n",
       "      <td>-0.696167</td>\n",
       "      <td>0.173450</td>\n",
       "      <td>-0.094342</td>\n",
       "      <td>0.106232</td>\n",
       "    </tr>\n",
       "    <tr>\n",
       "      <th>volatile acidity</th>\n",
       "      <td>-0.261200</td>\n",
       "      <td>1.000000</td>\n",
       "      <td>-0.559596</td>\n",
       "      <td>0.017451</td>\n",
       "      <td>0.086274</td>\n",
       "      <td>-0.011557</td>\n",
       "      <td>0.071838</td>\n",
       "      <td>0.023460</td>\n",
       "      <td>0.237946</td>\n",
       "      <td>-0.258974</td>\n",
       "      <td>-0.199898</td>\n",
       "      <td>-0.405739</td>\n",
       "    </tr>\n",
       "    <tr>\n",
       "      <th>citric acid</th>\n",
       "      <td>0.684051</td>\n",
       "      <td>-0.559596</td>\n",
       "      <td>1.000000</td>\n",
       "      <td>0.125414</td>\n",
       "      <td>0.180793</td>\n",
       "      <td>-0.075558</td>\n",
       "      <td>0.015275</td>\n",
       "      <td>0.380577</td>\n",
       "      <td>-0.559152</td>\n",
       "      <td>0.297761</td>\n",
       "      <td>0.081174</td>\n",
       "      <td>0.219003</td>\n",
       "    </tr>\n",
       "    <tr>\n",
       "      <th>residual sugar</th>\n",
       "      <td>0.079467</td>\n",
       "      <td>0.017451</td>\n",
       "      <td>0.125414</td>\n",
       "      <td>1.000000</td>\n",
       "      <td>0.093296</td>\n",
       "      <td>0.249402</td>\n",
       "      <td>0.243075</td>\n",
       "      <td>0.344826</td>\n",
       "      <td>-0.065222</td>\n",
       "      <td>-0.010941</td>\n",
       "      <td>0.009383</td>\n",
       "      <td>0.004437</td>\n",
       "    </tr>\n",
       "    <tr>\n",
       "      <th>chlorides</th>\n",
       "      <td>0.095452</td>\n",
       "      <td>0.086274</td>\n",
       "      <td>0.180793</td>\n",
       "      <td>0.093296</td>\n",
       "      <td>1.000000</td>\n",
       "      <td>0.022508</td>\n",
       "      <td>0.054868</td>\n",
       "      <td>0.223306</td>\n",
       "      <td>-0.257072</td>\n",
       "      <td>0.357405</td>\n",
       "      <td>-0.231375</td>\n",
       "      <td>-0.153947</td>\n",
       "    </tr>\n",
       "    <tr>\n",
       "      <th>free sulfur dioxide</th>\n",
       "      <td>-0.179098</td>\n",
       "      <td>-0.011557</td>\n",
       "      <td>-0.075558</td>\n",
       "      <td>0.249402</td>\n",
       "      <td>0.022508</td>\n",
       "      <td>1.000000</td>\n",
       "      <td>0.666235</td>\n",
       "      <td>-0.024314</td>\n",
       "      <td>0.091968</td>\n",
       "      <td>0.064056</td>\n",
       "      <td>-0.065144</td>\n",
       "      <td>-0.040485</td>\n",
       "    </tr>\n",
       "    <tr>\n",
       "      <th>total sulfur dioxide</th>\n",
       "      <td>-0.134373</td>\n",
       "      <td>0.071838</td>\n",
       "      <td>0.015275</td>\n",
       "      <td>0.243075</td>\n",
       "      <td>0.054868</td>\n",
       "      <td>0.666235</td>\n",
       "      <td>1.000000</td>\n",
       "      <td>0.063827</td>\n",
       "      <td>-0.044841</td>\n",
       "      <td>0.048628</td>\n",
       "      <td>-0.204023</td>\n",
       "      <td>-0.164686</td>\n",
       "    </tr>\n",
       "    <tr>\n",
       "      <th>density</th>\n",
       "      <td>0.678846</td>\n",
       "      <td>0.023460</td>\n",
       "      <td>0.380577</td>\n",
       "      <td>0.344826</td>\n",
       "      <td>0.223306</td>\n",
       "      <td>-0.024314</td>\n",
       "      <td>0.063827</td>\n",
       "      <td>1.000000</td>\n",
       "      <td>-0.359940</td>\n",
       "      <td>0.130473</td>\n",
       "      <td>-0.514918</td>\n",
       "      <td>-0.196065</td>\n",
       "    </tr>\n",
       "    <tr>\n",
       "      <th>pH</th>\n",
       "      <td>-0.696167</td>\n",
       "      <td>0.237946</td>\n",
       "      <td>-0.559152</td>\n",
       "      <td>-0.065222</td>\n",
       "      <td>-0.257072</td>\n",
       "      <td>0.091968</td>\n",
       "      <td>-0.044841</td>\n",
       "      <td>-0.359940</td>\n",
       "      <td>1.000000</td>\n",
       "      <td>-0.201135</td>\n",
       "      <td>0.223400</td>\n",
       "      <td>-0.044065</td>\n",
       "    </tr>\n",
       "    <tr>\n",
       "      <th>sulphates</th>\n",
       "      <td>0.173450</td>\n",
       "      <td>-0.258974</td>\n",
       "      <td>0.297761</td>\n",
       "      <td>-0.010941</td>\n",
       "      <td>0.357405</td>\n",
       "      <td>0.064056</td>\n",
       "      <td>0.048628</td>\n",
       "      <td>0.130473</td>\n",
       "      <td>-0.201135</td>\n",
       "      <td>1.000000</td>\n",
       "      <td>0.092329</td>\n",
       "      <td>0.245733</td>\n",
       "    </tr>\n",
       "    <tr>\n",
       "      <th>alcohol</th>\n",
       "      <td>-0.094342</td>\n",
       "      <td>-0.199898</td>\n",
       "      <td>0.081174</td>\n",
       "      <td>0.009383</td>\n",
       "      <td>-0.231375</td>\n",
       "      <td>-0.065144</td>\n",
       "      <td>-0.204023</td>\n",
       "      <td>-0.514918</td>\n",
       "      <td>0.223400</td>\n",
       "      <td>0.092329</td>\n",
       "      <td>1.000000</td>\n",
       "      <td>0.477024</td>\n",
       "    </tr>\n",
       "    <tr>\n",
       "      <th>quality</th>\n",
       "      <td>0.106232</td>\n",
       "      <td>-0.405739</td>\n",
       "      <td>0.219003</td>\n",
       "      <td>0.004437</td>\n",
       "      <td>-0.153947</td>\n",
       "      <td>-0.040485</td>\n",
       "      <td>-0.164686</td>\n",
       "      <td>-0.196065</td>\n",
       "      <td>-0.044065</td>\n",
       "      <td>0.245733</td>\n",
       "      <td>0.477024</td>\n",
       "      <td>1.000000</td>\n",
       "    </tr>\n",
       "  </tbody>\n",
       "</table>\n",
       "</div>"
      ],
      "text/plain": [
       "                      fixed acidity  volatile acidity  citric acid  \\\n",
       "fixed acidity              1.000000         -0.261200     0.684051   \n",
       "volatile acidity          -0.261200          1.000000    -0.559596   \n",
       "citric acid                0.684051         -0.559596     1.000000   \n",
       "residual sugar             0.079467          0.017451     0.125414   \n",
       "chlorides                  0.095452          0.086274     0.180793   \n",
       "free sulfur dioxide       -0.179098         -0.011557    -0.075558   \n",
       "total sulfur dioxide      -0.134373          0.071838     0.015275   \n",
       "density                    0.678846          0.023460     0.380577   \n",
       "pH                        -0.696167          0.237946    -0.559152   \n",
       "sulphates                  0.173450         -0.258974     0.297761   \n",
       "alcohol                   -0.094342         -0.199898     0.081174   \n",
       "quality                    0.106232         -0.405739     0.219003   \n",
       "\n",
       "                      residual sugar  chlorides  free sulfur dioxide  \\\n",
       "fixed acidity               0.079467   0.095452            -0.179098   \n",
       "volatile acidity            0.017451   0.086274            -0.011557   \n",
       "citric acid                 0.125414   0.180793            -0.075558   \n",
       "residual sugar              1.000000   0.093296             0.249402   \n",
       "chlorides                   0.093296   1.000000             0.022508   \n",
       "free sulfur dioxide         0.249402   0.022508             1.000000   \n",
       "total sulfur dioxide        0.243075   0.054868             0.666235   \n",
       "density                     0.344826   0.223306            -0.024314   \n",
       "pH                         -0.065222  -0.257072             0.091968   \n",
       "sulphates                  -0.010941   0.357405             0.064056   \n",
       "alcohol                     0.009383  -0.231375            -0.065144   \n",
       "quality                     0.004437  -0.153947            -0.040485   \n",
       "\n",
       "                      total sulfur dioxide   density        pH  sulphates  \\\n",
       "fixed acidity                    -0.134373  0.678846 -0.696167   0.173450   \n",
       "volatile acidity                  0.071838  0.023460  0.237946  -0.258974   \n",
       "citric acid                       0.015275  0.380577 -0.559152   0.297761   \n",
       "residual sugar                    0.243075  0.344826 -0.065222  -0.010941   \n",
       "chlorides                         0.054868  0.223306 -0.257072   0.357405   \n",
       "free sulfur dioxide               0.666235 -0.024314  0.091968   0.064056   \n",
       "total sulfur dioxide              1.000000  0.063827 -0.044841   0.048628   \n",
       "density                           0.063827  1.000000 -0.359940   0.130473   \n",
       "pH                               -0.044841 -0.359940  1.000000  -0.201135   \n",
       "sulphates                         0.048628  0.130473 -0.201135   1.000000   \n",
       "alcohol                          -0.204023 -0.514918  0.223400   0.092329   \n",
       "quality                          -0.164686 -0.196065 -0.044065   0.245733   \n",
       "\n",
       "                       alcohol   quality  \n",
       "fixed acidity        -0.094342  0.106232  \n",
       "volatile acidity     -0.199898 -0.405739  \n",
       "citric acid           0.081174  0.219003  \n",
       "residual sugar        0.009383  0.004437  \n",
       "chlorides            -0.231375 -0.153947  \n",
       "free sulfur dioxide  -0.065144 -0.040485  \n",
       "total sulfur dioxide -0.204023 -0.164686  \n",
       "density              -0.514918 -0.196065  \n",
       "pH                    0.223400 -0.044065  \n",
       "sulphates             0.092329  0.245733  \n",
       "alcohol               1.000000  0.477024  \n",
       "quality               0.477024  1.000000  "
      ]
     },
     "execution_count": 14,
     "metadata": {},
     "output_type": "execute_result"
    }
   ],
   "source": [
    "df.corr()"
   ]
  },
  {
   "cell_type": "code",
   "execution_count": 15,
   "metadata": {},
   "outputs": [
    {
     "data": {
      "text/plain": [
       "<matplotlib.axes._subplots.AxesSubplot at 0x1ef4e799408>"
      ]
     },
     "execution_count": 15,
     "metadata": {},
     "output_type": "execute_result"
    },
    {
     "data": {
      "image/png": "[encoded data removed]",
      "text/plain": [
       "<Figure size 1152x1152 with 2 Axes>"
      ]
     },
     "metadata": {
      "needs_background": "light"
     },
     "output_type": "display_data"
    }
   ],
   "source": [
    "import matplotlib.pyplot as plt\n",
    "plt.figure(figsize=(16,16))\n",
    "sns.heatmap(df.corr(),annot=True)"
   ]
  },
  {
   "cell_type": "code",
   "execution_count": 16,
   "metadata": {},
   "outputs": [
    {
     "data": {
      "text/plain": [
       "<matplotlib.axes._subplots.AxesSubplot at 0x1ef4eef1908>"
      ]
     },
     "execution_count": 16,
     "metadata": {},
     "output_type": "execute_result"
    },
    {
     "data": {
      "image/png": "[encoded data removed]",
      "text/plain": [
       "<Figure size 432x288 with 1 Axes>"
      ]
     },
     "metadata": {
      "needs_background": "light"
     },
     "output_type": "display_data"
    }
   ],
   "source": [
    "sns.distplot(df[ 'alcohol'])"
   ]
  },
  {
   "cell_type": "code",
   "execution_count": 17,
   "metadata": {},
   "outputs": [
    {
     "data": {
      "text/plain": [
       "array([[<matplotlib.axes._subplots.AxesSubplot object at 0x000001EF4E6E2C88>,\n",
       "        <matplotlib.axes._subplots.AxesSubplot object at 0x000001EF4EEC43C8>,\n",
       "        <matplotlib.axes._subplots.AxesSubplot object at 0x000001EF4E867308>],\n",
       "       [<matplotlib.axes._subplots.AxesSubplot object at 0x000001EF4E8A21C8>,\n",
       "        <matplotlib.axes._subplots.AxesSubplot object at 0x000001EF4E8D4F08>,\n",
       "        <matplotlib.axes._subplots.AxesSubplot object at 0x000001EF4E90EE08>],\n",
       "       [<matplotlib.axes._subplots.AxesSubplot object at 0x000001EF4E948D08>,\n",
       "        <matplotlib.axes._subplots.AxesSubplot object at 0x000001EF4E982A48>,\n",
       "        <matplotlib.axes._subplots.AxesSubplot object at 0x000001EF4E982C48>],\n",
       "       [<matplotlib.axes._subplots.AxesSubplot object at 0x000001EF4E9BBB88>,\n",
       "        <matplotlib.axes._subplots.AxesSubplot object at 0x000001EF4EA2E688>,\n",
       "        <matplotlib.axes._subplots.AxesSubplot object at 0x000001EF4EA69548>]],\n",
       "      dtype=object)"
      ]
     },
     "execution_count": 17,
     "metadata": {},
     "output_type": "execute_result"
    },
    {
     "data": {
      "image/png": "[encoded data removed]",
      "text/plain": [
       "<Figure size 1152x648 with 12 Axes>"
      ]
     },
     "metadata": {
      "needs_background": "light"
     },
     "output_type": "display_data"
    }
   ],
   "source": [
    "df.hist(figsize=(16,9))"
   ]
  },
  {
   "cell_type": "code",
   "execution_count": 18,
   "metadata": {},
   "outputs": [
    {
     "data": {
      "text/plain": [
       "fixed acidity               AxesSubplot(0.125,0.71587;0.168478x0.16413)\n",
       "volatile acidity         AxesSubplot(0.327174,0.71587;0.168478x0.16413)\n",
       "citric acid              AxesSubplot(0.529348,0.71587;0.168478x0.16413)\n",
       "residual sugar           AxesSubplot(0.731522,0.71587;0.168478x0.16413)\n",
       "chlorides                  AxesSubplot(0.125,0.518913;0.168478x0.16413)\n",
       "free sulfur dioxide     AxesSubplot(0.327174,0.518913;0.168478x0.16413)\n",
       "total sulfur dioxide    AxesSubplot(0.529348,0.518913;0.168478x0.16413)\n",
       "density                 AxesSubplot(0.731522,0.518913;0.168478x0.16413)\n",
       "pH                         AxesSubplot(0.125,0.321957;0.168478x0.16413)\n",
       "sulphates               AxesSubplot(0.327174,0.321957;0.168478x0.16413)\n",
       "alcohol                 AxesSubplot(0.529348,0.321957;0.168478x0.16413)\n",
       "quality                 AxesSubplot(0.731522,0.321957;0.168478x0.16413)\n",
       "dtype: object"
      ]
     },
     "execution_count": 18,
     "metadata": {},
     "output_type": "execute_result"
    },
    {
     "data": {
      "image/png": "[encoded data removed]",
      "text/plain": [
       "<Figure size 864x864 with 16 Axes>"
      ]
     },
     "metadata": {
      "needs_background": "light"
     },
     "output_type": "display_data"
    }
   ],
   "source": [
    "df.plot(kind='box',subplots=True,layout=(4,4),fontsize=8,figsize=(12,12))"
   ]
  },
  {
   "cell_type": "code",
   "execution_count": 19,
   "metadata": {},
   "outputs": [],
   "source": [
    "from sklearn.model_selection import train_test_split\n",
    "from sklearn.model_selection import KFold\n",
    "from sklearn.model_selection import cross_val_score\n",
    "from sklearn.metrics import confusion_matrix\n",
    "from sklearn.metrics import classification_report\n",
    "from sklearn.metrics import accuracy_score\n",
    "from sklearn.linear_model import LogisticRegression\n",
    "from sklearn.tree import DecisionTreeClassifier\n",
    "from sklearn.neighbors import KNeighborsClassifier\n",
    "from sklearn.discriminant_analysis import LinearDiscriminantAnalysis\n",
    "from sklearn.naive_bayes import GaussianNB\n",
    "from sklearn.naive_bayes import MultinomialNB\n",
    "from sklearn.svm import SVC"
   ]
  },
  {
   "cell_type": "code",
   "execution_count": 20,
   "metadata": {},
   "outputs": [
    {
     "data": {
      "text/plain": [
       "(1119, 12)"
      ]
     },
     "execution_count": 20,
     "metadata": {},
     "output_type": "execute_result"
    }
   ],
   "source": [
    "df.shape"
   ]
  },
  {
   "cell_type": "code",
   "execution_count": 21,
   "metadata": {},
   "outputs": [],
   "source": [
    "x=df.drop('quality',axis=1)"
   ]
  },
  {
   "cell_type": "code",
   "execution_count": 22,
   "metadata": {},
   "outputs": [],
   "source": [
    "y=df['quality']"
   ]
  },
  {
   "cell_type": "code",
   "execution_count": 23,
   "metadata": {},
   "outputs": [
    {
     "data": {
      "text/plain": [
       "(1119, 11)"
      ]
     },
     "execution_count": 23,
     "metadata": {},
     "output_type": "execute_result"
    }
   ],
   "source": [
    "x.shape"
   ]
  },
  {
   "cell_type": "code",
   "execution_count": 24,
   "metadata": {},
   "outputs": [
    {
     "data": {
      "text/plain": [
       "(1119,)"
      ]
     },
     "execution_count": 24,
     "metadata": {},
     "output_type": "execute_result"
    }
   ],
   "source": [
    "y.shape"
   ]
  },
  {
   "cell_type": "code",
   "execution_count": 25,
   "metadata": {},
   "outputs": [],
   "source": [
    "x_train,x_test,y_train,y_test=train_test_split(x,y,test_size=0.20,random_state=42)"
   ]
  },
  {
   "cell_type": "code",
   "execution_count": 26,
   "metadata": {},
   "outputs": [
    {
     "name": "stdout",
     "output_type": "stream",
     "text": [
      "shape of x_train: (895, 11)\n",
      "shape of x_test: (224, 11)\n",
      "shape of y_train: (895,)\n",
      "shape of y_test: (224,)\n"
     ]
    }
   ],
   "source": [
    "print('shape of x_train:',x_train.shape)\n",
    "print('shape of x_test:',x_test.shape)\n",
    "print('shape of y_train:',y_train.shape)\n",
    "print('shape of y_test:',y_test.shape)"
   ]
  },
  {
   "cell_type": "code",
   "execution_count": 27,
   "metadata": {},
   "outputs": [
    {
     "name": "stdout",
     "output_type": "stream",
     "text": [
      "Accuracy score of DecisionTreeClassifier() is:\n",
      "0.5892857142857143\n",
      "[[ 0  0  0  1  0  0]\n",
      " [ 0  1  5  0  1  0]\n",
      " [ 0  3 66 29  2  0]\n",
      " [ 0  1 20 45 15  0]\n",
      " [ 0  0  2  9 20  2]\n",
      " [ 0  0  0  1  1  0]]\n",
      "              precision    recall  f1-score   support\n",
      "\n",
      "           3       0.00      0.00      0.00         1\n",
      "           4       0.20      0.14      0.17         7\n",
      "           5       0.71      0.66      0.68       100\n",
      "           6       0.53      0.56      0.54        81\n",
      "           7       0.51      0.61      0.56        33\n",
      "           8       0.00      0.00      0.00         2\n",
      "\n",
      "    accuracy                           0.59       224\n",
      "   macro avg       0.33      0.33      0.32       224\n",
      "weighted avg       0.59      0.59      0.59       224\n",
      "\n",
      "\n",
      "\n"
     ]
    },
    {
     "name": "stderr",
     "output_type": "stream",
     "text": [
      "C:\\Users\\sagar\\anaconda3\\lib\\site-packages\\sklearn\\metrics\\_classification.py:1221: UndefinedMetricWarning: Precision and F-score are ill-defined and being set to 0.0 in labels with no predicted samples. Use `zero_division` parameter to control this behavior.\n",
      "  _warn_prf(average, modifier, msg_start, len(result))\n",
      "C:\\Users\\sagar\\anaconda3\\lib\\site-packages\\sklearn\\metrics\\_classification.py:1221: UndefinedMetricWarning: Precision and F-score are ill-defined and being set to 0.0 in labels with no predicted samples. Use `zero_division` parameter to control this behavior.\n",
      "  _warn_prf(average, modifier, msg_start, len(result))\n"
     ]
    },
    {
     "name": "stdout",
     "output_type": "stream",
     "text": [
      "Accuracy score of SVC() is:\n",
      "0.4955357142857143\n",
      "[[ 0  0  0  1  0  0]\n",
      " [ 0  0  1  6  0  0]\n",
      " [ 0  0 41 59  0  0]\n",
      " [ 0  0 11 70  0  0]\n",
      " [ 0  0  4 29  0  0]\n",
      " [ 0  0  0  2  0  0]]\n",
      "              precision    recall  f1-score   support\n",
      "\n",
      "           3       0.00      0.00      0.00         1\n",
      "           4       0.00      0.00      0.00         7\n",
      "           5       0.72      0.41      0.52       100\n",
      "           6       0.42      0.86      0.56        81\n",
      "           7       0.00      0.00      0.00        33\n",
      "           8       0.00      0.00      0.00         2\n",
      "\n",
      "    accuracy                           0.50       224\n",
      "   macro avg       0.19      0.21      0.18       224\n",
      "weighted avg       0.47      0.50      0.44       224\n",
      "\n",
      "\n",
      "\n",
      "Accuracy score of KNeighborsClassifier() is:\n",
      "0.53125\n",
      "[[ 0  0  0  1  0  0]\n",
      " [ 0  0  5  2  0  0]\n",
      " [ 0  0 69 30  1  0]\n",
      " [ 0  2 32 39  8  0]\n",
      " [ 0  0 12  9 11  1]\n",
      " [ 0  0  2  0  0  0]]\n",
      "              precision    recall  f1-score   support\n",
      "\n",
      "           3       0.00      0.00      0.00         1\n",
      "           4       0.00      0.00      0.00         7\n",
      "           5       0.57      0.69      0.63       100\n",
      "           6       0.48      0.48      0.48        81\n",
      "           7       0.55      0.33      0.42        33\n",
      "           8       0.00      0.00      0.00         2\n",
      "\n",
      "    accuracy                           0.53       224\n",
      "   macro avg       0.27      0.25      0.25       224\n",
      "weighted avg       0.51      0.53      0.52       224\n",
      "\n",
      "\n",
      "\n"
     ]
    },
    {
     "name": "stderr",
     "output_type": "stream",
     "text": [
      "C:\\Users\\sagar\\anaconda3\\lib\\site-packages\\sklearn\\metrics\\_classification.py:1221: UndefinedMetricWarning: Precision and F-score are ill-defined and being set to 0.0 in labels with no predicted samples. Use `zero_division` parameter to control this behavior.\n",
      "  _warn_prf(average, modifier, msg_start, len(result))\n"
     ]
    },
    {
     "name": "stdout",
     "output_type": "stream",
     "text": [
      "Accuracy score of MultinomialNB() is:\n",
      "0.41964285714285715\n",
      "[[ 0  0  0  0  1  0]\n",
      " [ 0  0  1  4  2  0]\n",
      " [ 0  0 45 30 25  0]\n",
      " [ 0  0 17 30 34  0]\n",
      " [ 0  0  6  8 19  0]\n",
      " [ 0  0  0  1  1  0]]\n",
      "              precision    recall  f1-score   support\n",
      "\n",
      "           3       0.00      0.00      0.00         1\n",
      "           4       0.00      0.00      0.00         7\n",
      "           5       0.65      0.45      0.53       100\n",
      "           6       0.41      0.37      0.39        81\n",
      "           7       0.23      0.58      0.33        33\n",
      "           8       0.00      0.00      0.00         2\n",
      "\n",
      "    accuracy                           0.42       224\n",
      "   macro avg       0.22      0.23      0.21       224\n",
      "weighted avg       0.47      0.42      0.43       224\n",
      "\n",
      "\n",
      "\n"
     ]
    },
    {
     "name": "stderr",
     "output_type": "stream",
     "text": [
      "C:\\Users\\sagar\\anaconda3\\lib\\site-packages\\sklearn\\metrics\\_classification.py:1221: UndefinedMetricWarning: Precision and F-score are ill-defined and being set to 0.0 in labels with no predicted samples. Use `zero_division` parameter to control this behavior.\n",
      "  _warn_prf(average, modifier, msg_start, len(result))\n"
     ]
    }
   ],
   "source": [
    "model=[DecisionTreeClassifier(),SVC(),KNeighborsClassifier(),MultinomialNB()]\n",
    "\n",
    "\n",
    "for m in model:\n",
    "    m.fit(x_train,y_train)\n",
    "    m.score(x_train,y_train)\n",
    "    predm=m.predict(x_test)\n",
    "    print('Accuracy score of',m,'is:')\n",
    "    print(accuracy_score(y_test,predm))\n",
    "    print(confusion_matrix(y_test,predm))\n",
    "    print(classification_report(y_test,predm))\n",
    "    print('\\n')"
   ]
  },
  {
   "cell_type": "code",
   "execution_count": 30,
   "metadata": {},
   "outputs": [
    {
     "name": "stdout",
     "output_type": "stream",
     "text": [
      "0.6517857142857143\n",
      "[[ 0  0  1  0  0  0]\n",
      " [ 0  0  6  1  0  0]\n",
      " [ 0  0 78 22  0  0]\n",
      " [ 0  0 23 50  8  0]\n",
      " [ 0  0  1 14 18  0]\n",
      " [ 0  0  0  2  0  0]]\n",
      "              precision    recall  f1-score   support\n",
      "\n",
      "           3       0.00      0.00      0.00         1\n",
      "           4       0.00      0.00      0.00         7\n",
      "           5       0.72      0.78      0.75       100\n",
      "           6       0.56      0.62      0.59        81\n",
      "           7       0.69      0.55      0.61        33\n",
      "           8       0.00      0.00      0.00         2\n",
      "\n",
      "    accuracy                           0.65       224\n",
      "   macro avg       0.33      0.32      0.32       224\n",
      "weighted avg       0.62      0.65      0.64       224\n",
      "\n",
      "\n",
      "\n"
     ]
    },
    {
     "name": "stderr",
     "output_type": "stream",
     "text": [
      "C:\\Users\\sagar\\anaconda3\\lib\\site-packages\\sklearn\\metrics\\_classification.py:1221: UndefinedMetricWarning: Precision and F-score are ill-defined and being set to 0.0 in labels with no predicted samples. Use `zero_division` parameter to control this behavior.\n",
      "  _warn_prf(average, modifier, msg_start, len(result))\n"
     ]
    }
   ],
   "source": [
    "from sklearn.ensemble import RandomForestClassifier\n",
    "\n",
    "rf=RandomForestClassifier(n_estimators=150,random_state=42)\n",
    "rf.fit(x_train,y_train)\n",
    "predmrf=rf.predict(x_test)\n",
    "print(accuracy_score(y_test,predmrf))\n",
    "print(confusion_matrix(y_test,predmrf))\n",
    "print(classification_report(y_test,predmrf))\n",
    "print('\\n')\n"
   ]
  },
  {
   "cell_type": "code",
   "execution_count": 32,
   "metadata": {},
   "outputs": [
    {
     "name": "stdout",
     "output_type": "stream",
     "text": [
      "0.6517857142857143\n",
      "[[ 0  0  1  0  0  0]\n",
      " [ 0  0  6  1  0  0]\n",
      " [ 0  0 78 22  0  0]\n",
      " [ 0  0 23 50  8  0]\n",
      " [ 0  0  1 14 18  0]\n",
      " [ 0  0  0  2  0  0]]\n",
      "              precision    recall  f1-score   support\n",
      "\n",
      "           3       0.00      0.00      0.00         1\n",
      "           4       0.00      0.00      0.00         7\n",
      "           5       0.72      0.78      0.75       100\n",
      "           6       0.56      0.62      0.59        81\n",
      "           7       0.69      0.55      0.61        33\n",
      "           8       0.00      0.00      0.00         2\n",
      "\n",
      "    accuracy                           0.65       224\n",
      "   macro avg       0.33      0.32      0.32       224\n",
      "weighted avg       0.62      0.65      0.64       224\n",
      "\n",
      "\n",
      "\n"
     ]
    },
    {
     "name": "stderr",
     "output_type": "stream",
     "text": [
      "C:\\Users\\sagar\\anaconda3\\lib\\site-packages\\sklearn\\metrics\\_classification.py:1221: UndefinedMetricWarning: Precision and F-score are ill-defined and being set to 0.0 in labels with no predicted samples. Use `zero_division` parameter to control this behavior.\n",
      "  _warn_prf(average, modifier, msg_start, len(result))\n"
     ]
    }
   ],
   "source": [
    "from sklearn.ensemble import AdaBoostClassifier\n",
    "\n",
    "ad=AdaBoostClassifier()\n",
    "ad.fit(x_train,y_train)\n",
    "predmrf=rf.predict(x_test)\n",
    "print(accuracy_score(y_test,predmrf))\n",
    "print(confusion_matrix(y_test,predmrf))\n",
    "print(classification_report(y_test,predmrf))\n",
    "print('\\n')"
   ]
  },
  {
   "cell_type": "code",
   "execution_count": 34,
   "metadata": {},
   "outputs": [
    {
     "name": "stdout",
     "output_type": "stream",
     "text": [
      "0.5491071428571429\n",
      "[[ 0  0  0  1  0  0]\n",
      " [ 0  0  4  3  0  0]\n",
      " [ 1  0 67 32  0  0]\n",
      " [ 0  0 25 56  0  0]\n",
      " [ 0  0  3 30  0  0]\n",
      " [ 0  0  1  1  0  0]]\n",
      "              precision    recall  f1-score   support\n",
      "\n",
      "           3       0.00      0.00      0.00         1\n",
      "           4       0.00      0.00      0.00         7\n",
      "           5       0.67      0.67      0.67       100\n",
      "           6       0.46      0.69      0.55        81\n",
      "           7       0.00      0.00      0.00        33\n",
      "           8       0.00      0.00      0.00         2\n",
      "\n",
      "    accuracy                           0.55       224\n",
      "   macro avg       0.19      0.23      0.20       224\n",
      "weighted avg       0.46      0.55      0.50       224\n",
      "\n"
     ]
    },
    {
     "name": "stderr",
     "output_type": "stream",
     "text": [
      "C:\\Users\\sagar\\anaconda3\\lib\\site-packages\\sklearn\\metrics\\_classification.py:1221: UndefinedMetricWarning: Precision and F-score are ill-defined and being set to 0.0 in labels with no predicted samples. Use `zero_division` parameter to control this behavior.\n",
      "  _warn_prf(average, modifier, msg_start, len(result))\n"
     ]
    }
   ],
   "source": [
    "ad=AdaBoostClassifier(n_estimators=50)\n",
    "ad.fit(x_train,y_train)\n",
    "predmad=ad.predict(x_test)\n",
    "print(accuracy_score(y_test,predmad))\n",
    "print(confusion_matrix(y_test,predmad))\n",
    "print(classification_report(y_test,predmad))"
   ]
  },
  {
   "cell_type": "code",
   "execution_count": 36,
   "metadata": {},
   "outputs": [
    {
     "name": "stdout",
     "output_type": "stream",
     "text": [
      "0.5491071428571429\n",
      "[[ 0  0  0  1  0  0]\n",
      " [ 0  0  4  3  0  0]\n",
      " [ 1  0 67 32  0  0]\n",
      " [ 0  0 25 56  0  0]\n",
      " [ 0  0  3 30  0  0]\n",
      " [ 0  0  1  1  0  0]]\n",
      "              precision    recall  f1-score   support\n",
      "\n",
      "           3       0.00      0.00      0.00         1\n",
      "           4       0.00      0.00      0.00         7\n",
      "           5       0.67      0.67      0.67       100\n",
      "           6       0.46      0.69      0.55        81\n",
      "           7       0.00      0.00      0.00        33\n",
      "           8       0.00      0.00      0.00         2\n",
      "\n",
      "    accuracy                           0.55       224\n",
      "   macro avg       0.19      0.23      0.20       224\n",
      "weighted avg       0.46      0.55      0.50       224\n",
      "\n"
     ]
    },
    {
     "name": "stderr",
     "output_type": "stream",
     "text": [
      "C:\\Users\\sagar\\anaconda3\\lib\\site-packages\\sklearn\\metrics\\_classification.py:1221: UndefinedMetricWarning: Precision and F-score are ill-defined and being set to 0.0 in labels with no predicted samples. Use `zero_division` parameter to control this behavior.\n",
      "  _warn_prf(average, modifier, msg_start, len(result))\n"
     ]
    }
   ],
   "source": [
    "from sklearn.svm import SVC\n",
    "\n",
    "svc=SVC()\n",
    "\n",
    "ad=AdaBoostClassifier(n_estimators=50,base_estimator=svc,algorithm='SAMME')\n",
    "ad.fit(x_train,y_train)\n",
    "print(accuracy_score(y_test,predmad))\n",
    "print(confusion_matrix(y_test,predmad))\n",
    "print(classification_report(y_test,predmad))\n"
   ]
  },
  {
   "cell_type": "code",
   "execution_count": 39,
   "metadata": {},
   "outputs": [
    {
     "name": "stdout",
     "output_type": "stream",
     "text": [
      "0.5491071428571429\n",
      "[[ 0  0  0  1  0  0]\n",
      " [ 0  0  4  3  0  0]\n",
      " [ 1  0 67 32  0  0]\n",
      " [ 0  0 25 56  0  0]\n",
      " [ 0  0  3 30  0  0]\n",
      " [ 0  0  1  1  0  0]]\n",
      "              precision    recall  f1-score   support\n",
      "\n",
      "           3       0.00      0.00      0.00         1\n",
      "           4       0.00      0.00      0.00         7\n",
      "           5       0.67      0.67      0.67       100\n",
      "           6       0.46      0.69      0.55        81\n",
      "           7       0.00      0.00      0.00        33\n",
      "           8       0.00      0.00      0.00         2\n",
      "\n",
      "    accuracy                           0.55       224\n",
      "   macro avg       0.19      0.23      0.20       224\n",
      "weighted avg       0.46      0.55      0.50       224\n",
      "\n"
     ]
    },
    {
     "name": "stderr",
     "output_type": "stream",
     "text": [
      "C:\\Users\\sagar\\anaconda3\\lib\\site-packages\\sklearn\\metrics\\_classification.py:1221: UndefinedMetricWarning: Precision and F-score are ill-defined and being set to 0.0 in labels with no predicted samples. Use `zero_division` parameter to control this behavior.\n",
      "  _warn_prf(average, modifier, msg_start, len(result))\n"
     ]
    }
   ],
   "source": [
    "from sklearn.svm import SVC\n",
    "svc=SVC(probability=True, kernel='linear')\n",
    "ad.fit(x_train,y_train)\n",
    "preadmad=ad.predict(x_test)\n",
    "print(accuracy_score(y_test,predmad))\n",
    "print(confusion_matrix(y_test,predmad))\n",
    "print(classification_report(y_test,predmad))\n"
   ]
  },
  {
   "cell_type": "code",
   "execution_count": null,
   "metadata": {},
   "outputs": [],
   "source": []
  }
 ],
 "metadata": {
  "kernelspec": {
   "display_name": "Python 3",
   "language": "python",
   "name": "python3"
  },
  "language_info": {
   "codemirror_mode": {
    "name": "ipython",
    "version": 3
   },
   "file_extension": ".py",
   "mimetype": "text/x-python",
   "name": "python",
   "nbconvert_exporter": "python",
   "pygments_lexer": "ipython3",
   "version": "3.7.7"
  }
 },
 "nbformat": 4,
 "nbformat_minor": 4
}
